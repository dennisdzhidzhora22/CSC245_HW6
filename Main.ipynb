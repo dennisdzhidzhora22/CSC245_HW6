{
 "cells": [
  {
   "metadata": {},
   "cell_type": "markdown",
   "source": "Exercise 1",
   "id": "4e4c9d565ee3c82"
  },
  {
   "metadata": {
    "ExecuteTime": {
     "end_time": "2025-03-04T03:20:44.249016Z",
     "start_time": "2025-03-04T03:20:35.368670Z"
    }
   },
   "cell_type": "code",
   "source": [
    "%%timeit\n",
    "L = [i ** 2 for i in range(1000000)]"
   ],
   "id": "84f1a86fb648384d",
   "outputs": [
    {
     "name": "stdout",
     "output_type": "stream",
     "text": [
      "109 ms ± 7.86 ms per loop (mean ± std. dev. of 7 runs, 10 loops each)\n"
     ]
    }
   ],
   "execution_count": 2
  },
  {
   "metadata": {
    "ExecuteTime": {
     "end_time": "2025-03-04T03:20:45.668445Z",
     "start_time": "2025-03-04T03:20:45.525586Z"
    }
   },
   "cell_type": "code",
   "source": "import numpy",
   "id": "368a633091017b37",
   "outputs": [],
   "execution_count": 3
  },
  {
   "metadata": {
    "ExecuteTime": {
     "end_time": "2025-03-04T03:20:49.372472Z",
     "start_time": "2025-03-04T03:20:46.879709Z"
    }
   },
   "cell_type": "code",
   "source": [
    "%%timeit\n",
    "L2 = numpy.arange(1000000) ** 2"
   ],
   "id": "381fdcf8241bf274",
   "outputs": [
    {
     "name": "stdout",
     "output_type": "stream",
     "text": [
      "3.02 ms ± 260 μs per loop (mean ± std. dev. of 7 runs, 100 loops each)\n"
     ]
    }
   ],
   "execution_count": 4
  },
  {
   "metadata": {},
   "cell_type": "markdown",
   "source": [
    "NumPy arrays are faster than Python lists because they hold their data at one continuous block of memory, which allows for efficient access.\n",
    "In contrast, Python lists may not hold their data continuously, instead storing it across multiple locations. This can lead to fragmented memory, which decreases the efficiency of memory access."
   ],
   "id": "7b0935e935ee3312"
  },
  {
   "metadata": {},
   "cell_type": "markdown",
   "source": "Exercise 2",
   "id": "f1c80797761373b4"
  },
  {
   "metadata": {
    "ExecuteTime": {
     "end_time": "2025-03-04T03:20:54.295064Z",
     "start_time": "2025-03-04T03:20:54.288092Z"
    }
   },
   "cell_type": "code",
   "source": [
    "rng = numpy.random.default_rng(1234)\n",
    "\n",
    "M = rng.integers(10, size=(4, 4))\n",
    "print(\"Shape:\", M.shape)\n",
    "print(\"Size:\", M.size)\n",
    "print(\"Number of Dimensions:\", M.ndim)\n",
    "print(M)"
   ],
   "id": "dac89573aef624c0",
   "outputs": [
    {
     "name": "stdout",
     "output_type": "stream",
     "text": [
      "Shape: (4, 4)\n",
      "Size: 16\n",
      "Number of Dimensions: 2\n",
      "[[9 9 9 3]\n",
      " [1 9 1 2]\n",
      " [1 3 5 1]\n",
      " [7 2 7 3]]\n"
     ]
    }
   ],
   "execution_count": 5
  },
  {
   "metadata": {},
   "cell_type": "markdown",
   "source": "Exercise 3",
   "id": "72f4f8cd9261c488"
  },
  {
   "metadata": {
    "ExecuteTime": {
     "end_time": "2025-03-04T03:20:57.313950Z",
     "start_time": "2025-03-04T03:20:57.307609Z"
    }
   },
   "cell_type": "code",
   "source": [
    "im = numpy.identity(3)\n",
    "print(im)\n",
    "\n",
    "rng = numpy.random.default_rng(5678)\n",
    "arr = rng.integers(low=1, high=100, size=20)\n",
    "print(arr)"
   ],
   "id": "e72a964c39228c71",
   "outputs": [
    {
     "name": "stdout",
     "output_type": "stream",
     "text": [
      "[[1. 0. 0.]\n",
      " [0. 1. 0.]\n",
      " [0. 0. 1.]]\n",
      "[ 5 92 43 67 18 67 30 53 19 80 65 78 56 19 91 51 88 72 28 57]\n"
     ]
    }
   ],
   "execution_count": 6
  },
  {
   "metadata": {},
   "cell_type": "markdown",
   "source": "Exercise 4",
   "id": "312aa182d06d6cb9"
  },
  {
   "metadata": {
    "ExecuteTime": {
     "end_time": "2025-03-04T03:20:59.600330Z",
     "start_time": "2025-03-04T03:20:59.590442Z"
    }
   },
   "cell_type": "code",
   "source": [
    "M = numpy.array([[ 1,  2,  3,  4,  5],\n",
    "                 [ 6,  7,  8,  9, 10],\n",
    "                 [11, 12, 13, 14, 15],\n",
    "                 [16, 17, 18, 19, 20],\n",
    "                 [21, 22, 23, 24, 25]])\n",
    "\n",
    "print(\"Third row:\", M[2])\n",
    "print(\"Last two columns:\\n\", M[:, 3:5])\n",
    "print(\"3x3 submatrix from the center:\\n\", M[1:4, 1:4])"
   ],
   "id": "92623b967e8b99d6",
   "outputs": [
    {
     "name": "stdout",
     "output_type": "stream",
     "text": [
      "Third row: [11 12 13 14 15]\n",
      "Last two columns:\n",
      " [[ 4  5]\n",
      " [ 9 10]\n",
      " [14 15]\n",
      " [19 20]\n",
      " [24 25]]\n",
      "3x3 submatrix from the center:\n",
      " [[ 7  8  9]\n",
      " [12 13 14]\n",
      " [17 18 19]]\n"
     ]
    }
   ],
   "execution_count": 7
  },
  {
   "metadata": {},
   "cell_type": "markdown",
   "source": "Exercise 5",
   "id": "17720f01ed19672f"
  },
  {
   "metadata": {
    "ExecuteTime": {
     "end_time": "2025-03-04T03:21:03.438127Z",
     "start_time": "2025-03-04T03:21:03.431433Z"
    }
   },
   "cell_type": "code",
   "source": [
    "arr2 = numpy.arange(1, 21)\n",
    "print(\"Before reshaping:\", arr2)\n",
    "\n",
    "arr2 = arr2.reshape(4, 5)\n",
    "print(\"After reshaping:\\n\", arr2)"
   ],
   "id": "bba6e6c244a93f5e",
   "outputs": [
    {
     "name": "stdout",
     "output_type": "stream",
     "text": [
      "Before reshaping: [ 1  2  3  4  5  6  7  8  9 10 11 12 13 14 15 16 17 18 19 20]\n",
      "After reshaping:\n",
      " [[ 1  2  3  4  5]\n",
      " [ 6  7  8  9 10]\n",
      " [11 12 13 14 15]\n",
      " [16 17 18 19 20]]\n"
     ]
    }
   ],
   "execution_count": 8
  }
 ],
 "metadata": {
  "kernelspec": {
   "display_name": "Python 3",
   "language": "python",
   "name": "python3"
  },
  "language_info": {
   "codemirror_mode": {
    "name": "ipython",
    "version": 2
   },
   "file_extension": ".py",
   "mimetype": "text/x-python",
   "name": "python",
   "nbconvert_exporter": "python",
   "pygments_lexer": "ipython2",
   "version": "2.7.6"
  }
 },
 "nbformat": 4,
 "nbformat_minor": 5
}
